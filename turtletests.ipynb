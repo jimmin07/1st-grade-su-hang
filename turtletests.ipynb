{
 "cells": [
  {
   "cell_type": "code",
   "execution_count": 1,
   "metadata": {},
   "outputs": [],
   "source": [
    "import turtle\n",
    "t=turtle.Turtle()"
   ]
  },
  {
   "cell_type": "code",
   "execution_count": 3,
   "metadata": {},
   "outputs": [],
   "source": [
    "def npoly(n, l, x, y):\n",
    "    t.goto(x, y)\n",
    "    t.pendown()\n",
    "    t.begin_fill()\n",
    "    for a in range(n):\n",
    "        t.forward(l)\n",
    "        t.left(360/n)\n",
    "    t.end_fill()\n",
    "    t.penup()"
   ]
  },
  {
   "cell_type": "code",
   "execution_count": 9,
   "metadata": {},
   "outputs": [],
   "source": [
    "t.goto(0, 0)\n",
    "t.clear()\n",
    "t.setheading(0)"
   ]
  },
  {
   "cell_type": "code",
   "execution_count": null,
   "metadata": {},
   "outputs": [],
   "source": [
    "t.color(\"orange\", \"green\")\n",
    "npoly(3, 20, 0, 0)"
   ]
  },
  {
   "cell_type": "code",
   "execution_count": null,
   "metadata": {},
   "outputs": [],
   "source": [
    "t.color(\"orange\")\n",
    "npoly(4, 50, 0, 0)"
   ]
  },
  {
   "cell_type": "code",
   "execution_count": null,
   "metadata": {},
   "outputs": [],
   "source": [
    "t.color(\"black\")\n",
    "npoly(5, 100, 0, 0)"
   ]
  },
  {
   "cell_type": "code",
   "execution_count": null,
   "metadata": {},
   "outputs": [],
   "source": [
    "t.color(\"blue\")\n",
    "npoly(6, 70, 0, 0)"
   ]
  },
  {
   "cell_type": "code",
   "execution_count": null,
   "metadata": {},
   "outputs": [],
   "source": [
    "t.color(\"blue\", \"yellow\")\n",
    "t.pendown()\n",
    "t.begin_fill()\n",
    "t.circle(100)\n",
    "t.end_fill()"
   ]
  },
  {
   "cell_type": "code",
   "execution_count": 4,
   "metadata": {},
   "outputs": [],
   "source": [
    "t.color(\"black\")\n",
    "t.begin_fill()\n",
    "for a in range(2):\n",
    "    for b in range(2):\n",
    "        t.fd(20)\n",
    "        t.left(120)\n",
    "    t.left(180)\n",
    "    t.fd(20)\n",
    "    t.left(120)\n",
    "t.end_fill()"
   ]
  },
  {
   "cell_type": "code",
   "execution_count": 5,
   "metadata": {},
   "outputs": [],
   "source": [
    "t.color(\"orange\")\n",
    "npoly(4, 120, 0, 0)\n",
    "t.color(\"white\")\n",
    "npoly(4, 110, 5, 5)"
   ]
  },
  {
   "cell_type": "code",
   "execution_count": 6,
   "metadata": {},
   "outputs": [],
   "source": [
    "t.color(\"grey\")\n",
    "npoly(4, 100, 0, 0)\n",
    "npoly(4, 100, 0, -100)\n",
    "npoly(4, 100, 100, 0)\n",
    "npoly(4, 100, -100, 0)\n",
    "npoly(4, 100, 0, 100)"
   ]
  },
  {
   "cell_type": "code",
   "execution_count": 5,
   "metadata": {},
   "outputs": [],
   "source": [
    "import math"
   ]
  },
  {
   "cell_type": "code",
   "execution_count": 6,
   "metadata": {},
   "outputs": [],
   "source": [
    "t.setheading(45)\n",
    "t.color(\"grey\")\n",
    "npoly(4, 100, 0, 0)\n",
    "npoly(4, 100, math.sqrt(5000), math.sqrt(5000))\n",
    "npoly(4, 100, math.sqrt(5000), -math.sqrt(5000))\n",
    "npoly(4, 100, -math.sqrt(5000), math.sqrt(5000))\n",
    "npoly(4, 100, -math.sqrt(5000), -math.sqrt(5000))"
   ]
  }
 ],
 "metadata": {
  "kernelspec": {
   "display_name": "Python 3",
   "language": "python",
   "name": "python3"
  },
  "language_info": {
   "codemirror_mode": {
    "name": "ipython",
    "version": 3
   },
   "file_extension": ".py",
   "mimetype": "text/x-python",
   "name": "python",
   "nbconvert_exporter": "python",
   "pygments_lexer": "ipython3",
   "version": "3.11.5"
  },
  "orig_nbformat": 4
 },
 "nbformat": 4,
 "nbformat_minor": 2
}
